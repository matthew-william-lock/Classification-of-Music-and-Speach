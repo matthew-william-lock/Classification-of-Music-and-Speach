{
 "cells": [
  {
   "cell_type": "markdown",
   "metadata": {},
   "source": [
    "# Feature Extraction Notebook\n",
    "\n",
    "This notebook seems to extract features from the entire dataset"
   ]
  },
  {
   "cell_type": "code",
   "execution_count": 2,
   "metadata": {},
   "outputs": [],
   "source": [
    "# Import the required libraries\n",
    "import librosa\n",
    "import matplotlib.pyplot as plt\n",
    "import numpy as np\n",
    "import librosa.display\n",
    "import scipy.fftpack\n",
    "import math\n",
    "import soundfile as sf\n",
    "import sklearn.preprocessing\n",
    "import pandas as pd\n",
    "\n",
    "from scipy.io import wavfile\n",
    "\n",
    "from sklearn.neural_network import MLPClassifier\n",
    "\n",
    "# Required to train and split the data\n",
    "from sklearn.utils import shuffle\n",
    "from sklearn.model_selection import train_test_split\n",
    "\n",
    "# Required to import the data\n",
    "from os import listdir"
   ]
  },
  {
   "cell_type": "code",
   "execution_count": 7,
   "metadata": {
    "tags": [
     "outputPrepend"
    ]
   },
   "outputs": [
    {
     "output_type": "stream",
     "name": "stdout",
     "text": "Number of Speech files : 55\nNumber of Music files : 7997\n"
    }
   ],
   "source": [
    "# Set Directories\n",
    "speech_directory_1 = '../dataset/Speech_1'\n",
    "speech_directory_2 = '../dataset/Speech_2'\n",
    "music_directory_1 = '../dataset/Music'\n",
    "\n",
    "# Auqire files\n",
    "speech_files_1 = [speech_directory_1 + filename for filename in listdir(speech_directory_1)]\n",
    "speech_files_2 = [speech_directory_2 + filename for filename in listdir(speech_directory_2)]\n",
    "music_files_1 = [music_directory_1 + filename for filename in listdir(music_directory_1)]\n",
    "\n",
    "speech_files = shuffle(np.array(speech_files_1 + speech_files_2))\n",
    "\n",
    "# Shuffle Files\n",
    "\n",
    "print(\"Number of Speech files : {}\".format(len(speech_files_2)))\n",
    "print(\"Number of Music files : {}\".format(len(music_files_1)))"
   ]
  },
  {
   "cell_type": "code",
   "execution_count": null,
   "metadata": {},
   "outputs": [],
   "source": []
  }
 ],
 "metadata": {
  "language_info": {
   "codemirror_mode": {
    "name": "ipython",
    "version": 2
   },
   "file_extension": ".py",
   "mimetype": "text/x-python",
   "name": "python",
   "nbconvert_exporter": "python",
   "pygments_lexer": "ipython2",
   "version": "3.7.7-final"
  },
  "orig_nbformat": 2,
  "kernelspec": {
   "name": "python37764bit4ee73244bb464323ae53617443151c45",
   "display_name": "Python 3.7.7 64-bit"
  }
 },
 "nbformat": 4,
 "nbformat_minor": 2
}