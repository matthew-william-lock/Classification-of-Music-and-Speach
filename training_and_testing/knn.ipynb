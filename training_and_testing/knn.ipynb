{
 "cells": [
  {
   "cell_type": "markdown",
   "metadata": {},
   "source": [
    "# K-Nearest Neighbours Model"
   ]
  },
  {
   "cell_type": "markdown",
   "metadata": {},
   "source": [
    "## Imports"
   ]
  },
  {
   "cell_type": "code",
   "execution_count": 655,
   "metadata": {},
   "outputs": [],
   "source": [
    "# Import the required libraries\n",
    "import librosa\n",
    "import matplotlib.pyplot as plt\n",
    "import numpy as np\n",
    "import librosa.display\n",
    "import scipy.fftpack\n",
    "import math\n",
    "import soundfile as sf\n",
    "import sklearn.preprocessing\n",
    "import pandas as pd\n",
    "\n",
    "from scipy.io import wavfile\n",
    "from scipy.signal import find_peaks\n",
    "\n",
    "from sklearn.neural_network import MLPClassifier\n",
    "\n",
    "# Required to train and split the data\n",
    "from sklearn.utils import shuffle\n",
    "from sklearn.model_selection import train_test_split\n",
    "\n",
    "# Required to import the data\n",
    "from os import listdir\n",
    "\n",
    "# KNN Imports\n",
    "from sklearn.neighbors import NearestNeighbors\n",
    "from sklearn.neighbors import KNeighborsClassifier\n",
    "from sklearn import preprocessing\n",
    "from scipy import stats"
   ]
  },
  {
   "cell_type": "markdown",
   "metadata": {},
   "source": [
    "## Import Features"
   ]
  },
  {
   "cell_type": "code",
   "execution_count": 668,
   "metadata": {},
   "outputs": [
    {
     "output_type": "stream",
     "name": "stdout",
     "text": "Length of onset_strength_peak_rate : 1000\nLength of var_zc : 1000\nLength of low_energy_frame_percentages : 1000\nLength of all_labels : 1000\n"
    }
   ],
   "source": [
    "onset_strength_peak_rate = np.loadtxt('extracted_features/onset_strength_peak_rate_1000.csv', delimiter=',',dtype=np.double)\n",
    "var_zc = np.loadtxt('extracted_features/var_zc_1000.csv', delimiter=',',dtype=np.double)\n",
    "low_energy_frame_percentages =  np.loadtxt('extracted_features/low_energy_frame_percentages_1000.csv', delimiter=',',dtype=np.double)\n",
    "all_labels = np.loadtxt('extracted_features/labels_zc1_1000.csv', delimiter=',')\n",
    "\n",
    "print(\"Length of onset_strength_peak_rate : {}\".format(len(onset_strength_peak_rate)))\n",
    "print(\"Length of var_zc : {}\".format(len(var_zc)))\n",
    "print(\"Length of low_energy_frame_percentages : {}\".format(len(low_energy_frame_percentages)))\n",
    "print(\"Length of all_labels : {}\".format(len(all_labels)))"
   ]
  },
  {
   "cell_type": "markdown",
   "metadata": {},
   "source": [
    "## Remove Outliers, Normalize, and Combine Data"
   ]
  },
  {
   "cell_type": "code",
   "execution_count": 669,
   "metadata": {},
   "outputs": [],
   "source": [
    "def removeOutliers(x, outlierConstant):\n",
    "    a = np.array(x)\n",
    "    # print(a.shape)\n",
    "    upper_quartile = np.percentile(a, 75)\n",
    "    lower_quartile = np.percentile(a, 25)\n",
    "    IQR = (upper_quartile - lower_quartile) * outlierConstant\n",
    "    quartileSet = (lower_quartile - IQR, upper_quartile + IQR)\n",
    "    \n",
    "    result = []\n",
    "    removed = []\n",
    "    \n",
    "    for i,value in enumerate(a):\n",
    "        if ((value >= quartileSet[0]) and (value <= quartileSet[1])): result.append(value)\n",
    "        else: removed.append(i)\n",
    "    \n",
    "    return np.array(removed), np.array(result)"
   ]
  },
  {
   "cell_type": "code",
   "execution_count": 672,
   "metadata": {
    "tags": [
     "outputPrepend"
    ]
   },
   "outputs": [
    {
     "output_type": "stream",
     "name": "stdout",
     "text": "Length of onset_strength_peak_rate : 959\nLength of var_zc : 959\nLength of low_energy_frame_percentages : 959\nLength of all_labels : 959\nC:\\Users\\user-pc\\AppData\\Roaming\\Python\\Python37\\site-packages\\ipykernel_launcher.py:15: DeprecationWarning: using a non-integer array as obj in delete will result in an error in the future\n  from ipykernel import kernelapp as app\nC:\\Users\\user-pc\\AppData\\Roaming\\Python\\Python37\\site-packages\\ipykernel_launcher.py:16: DeprecationWarning: using a non-integer array as obj in delete will result in an error in the future\n  app.launch_new_instance()\nC:\\Users\\user-pc\\AppData\\Roaming\\Python\\Python37\\site-packages\\ipykernel_launcher.py:17: DeprecationWarning: using a non-integer array as obj in delete will result in an error in the future\n"
    }
   ],
   "source": [
    "# Remove outliers caused by var_vc\n",
    "removed, var_zc = removeOutliers(var_zc,1.5)\n",
    "onset_strength_peak_rate = np.delete(onset_strength_peak_rate,removed)\n",
    "low_energy_frame_percentages = np.delete(low_energy_frame_percentages,removed)\n",
    "all_labels = np.delete(all_labels,removed)\n",
    "\n",
    "# Remove outliers caused by onset_strength_peak_rate\n",
    "removed, onset_strength_peak_rate = removeOutliers(onset_strength_peak_rate,1.5)\n",
    "var_zc = np.delete(var_zc,removed)\n",
    "low_energy_frame_percentages = np.delete(low_energy_frame_percentages,removed)\n",
    "all_labels = np.delete(all_labels,removed)\n",
    "\n",
    "# Remove outliers caused by low_energy_frame_percentages\n",
    "removed, low_energy_frame_percentages = removeOutliers(low_energy_frame_percentages,1.5)\n",
    "var_zc = np.delete(var_zc,removed)\n",
    "onset_strength_peak_rate = np.delete(onset_strength_peak_rate,removed)\n",
    "all_labels = np.delete(all_labels,removed)\n",
    "\n",
    "# Normalise the Data\n",
    "var_zc = var_zc / var_zc.max()\n",
    "onset_strength_peak_rate = onset_strength_peak_rate / onset_strength_peak_rate.max()\n",
    "low_energy_frame_percentages = low_energy_frame_percentages / low_energy_frame_percentages.max()\n",
    "\n",
    "print(\"Length of onset_strength_peak_rate : {}\".format(len(onset_strength_peak_rate)))\n",
    "print(\"Length of var_zc : {}\".format(len(var_zc)))\n",
    "print(\"Length of low_energy_frame_percentages : {}\".format(len(low_energy_frame_percentages)))\n",
    "print(\"Length of all_labels : {}\".format(len(all_labels)))"
   ]
  },
  {
   "cell_type": "code",
   "execution_count": 673,
   "metadata": {
    "tags": [
     "outputPrepend"
    ]
   },
   "outputs": [
    {
     "output_type": "stream",
     "name": "stdout",
     "text": "Length of combined data : 959\n"
    }
   ],
   "source": [
    "X = np.array([ [onset_strength_peak_rate[i],var_zc[i],low_energy_frame_percentages[i]] for i,x in enumerate(var_zc) ])\n",
    "print(\"Length of combined data : {}\".format(len(X)))"
   ]
  },
  {
   "cell_type": "markdown",
   "metadata": {},
   "source": [
    "## Split the Data"
   ]
  },
  {
   "cell_type": "code",
   "execution_count": 705,
   "metadata": {},
   "outputs": [
    {
     "output_type": "stream",
     "name": "stdout",
     "text": "Length of X_train : 767\nLength of X_test : 192\n\nLength of y_train : 767\nLength of y_test : 192\n"
    }
   ],
   "source": [
    "X_train, X_test, y_train, y_test = train_test_split(X, all_labels, test_size=0.2)\n",
    "\n",
    "print(\"Length of X_train : {}\".format(len(X_train))) \n",
    "print(\"Length of X_test : {}\".format(len(X_test)))\n",
    "\n",
    "print()\n",
    "\n",
    "print(\"Length of y_train : {}\".format(len(y_train)))\n",
    "print(\"Length of y_test : {}\".format(len(y_test)))"
   ]
  },
  {
   "cell_type": "markdown",
   "metadata": {},
   "source": [
    "## KNN Algorithm"
   ]
  },
  {
   "cell_type": "code",
   "execution_count": 706,
   "metadata": {},
   "outputs": [
    {
     "output_type": "stream",
     "name": "stdout",
     "text": "Correct predictions : 81.77 %\n"
    }
   ],
   "source": [
    "n_neighbors  = 5\n",
    "weights = 'uniform'\n",
    "\n",
    "clf = KNeighborsClassifier(n_neighbors, weights=weights)\n",
    "clf.fit(X_train,y_train)\n",
    "\n",
    "z = clf.predict(X_test)\n",
    "\n",
    "correct_pred = 0\n",
    "for x,value in enumerate(z):\n",
    "    if value == y_test[x]: correct_pred+=1\n",
    "\n",
    "print(\"Correct predictions : {:3.2f} %\".format(correct_pred/len(y_test)*100))"
   ]
  },
  {
   "cell_type": "code",
   "execution_count": null,
   "metadata": {},
   "outputs": [],
   "source": []
  },
  {
   "cell_type": "code",
   "execution_count": null,
   "metadata": {},
   "outputs": [],
   "source": []
  }
 ],
 "metadata": {
  "language_info": {
   "codemirror_mode": {
    "name": "ipython",
    "version": 2
   },
   "file_extension": ".py",
   "mimetype": "text/x-python",
   "name": "python",
   "nbconvert_exporter": "python",
   "pygments_lexer": "ipython2",
   "version": "3.7.7-final"
  },
  "orig_nbformat": 2,
  "kernelspec": {
   "name": "python37764bit4ee73244bb464323ae53617443151c45",
   "display_name": "Python 3.7.7 64-bit"
  }
 },
 "nbformat": 4,
 "nbformat_minor": 2
}